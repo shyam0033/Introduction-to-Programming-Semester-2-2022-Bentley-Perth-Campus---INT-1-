{
  "cells": [
    {
      "cell_type": "markdown",
      "metadata": {
        "id": "2jQsL4QPFfuG"
      },
      "source": [
        "# Task: Write a program to print out a payslip for hourly paid employees. <br>\n",
        "Modify the Gross pay activity to print out a payslip for hourly paid employees.<br>Refer to week 2's Gross Pay activity.\n",
        "\n",
        "[What has to be on a pay slip?](https://www.fairwork.gov.au/pay-and-wages/paying-wages/pay-slips#what-has-to-be-on-a-pay-slip)\n",
        "\n",
        "[Resident tax rates 2022–23](https://www.ato.gov.au/rates/individual-income-tax-rates/)"
      ]
    },
    {
      "cell_type": "markdown",
      "metadata": {},
      "source": [
        "### What has to be on a pay slip?\n",
        "Pay slips have to cover details of an employee’s pay for each pay period. Below is a list of what to include:\n",
        "\n",
        "- employer’s and employee’s name\n",
        "- employer’s Australian Business Number (if applicable)\n",
        "- pay period\n",
        "- date of payment\n",
        "- gross and net pay\n",
        "- if the employee is paid an hourly rate:\n",
        "    - the ordinary hourly rate\n",
        "    - the number of hours worked at that rate\n",
        "    - the total dollar amount of pay at that rate\n",
        "    - any loadings (including casual loading), allowances, bonuses, incentive-based payments, penalty rates or other paid entitlements that can be separated out from an employee’s ordinary hourly rate. For example, a note could be included on a pay slip that the hourly rate incorporates the relevant casual loading.\n",
        "\n",
        "\n",
        "- the pay rate that applied on the last day of employment\n",
        "- any deductions from the employee's pay, including:\n",
        "    - the amount and details of each deduction\n",
        "    - the name, or name and number of the fund / account the deduction was paid into\n",
        "- any superannuation contributions paid for the employee’s benefit, including:\n",
        "    - the amount of contributions made during the pay period (or the amount of  contributions that need to be made)\n",
        "    - the name, or the name and number, of the superannuation fund the contributions were made to."
      ]
    },
    {
      "cell_type": "code",
      "execution_count": 2,
      "metadata": {
        "id": "bKtEUVfhD1GO"
      },
      "outputs": [
        {
          "name": "stdout",
          "output_type": "stream",
          "text": [
            "Total Gross pay = $33750.00\n",
            "--------------Employee Information--------------------\n",
            "Employe Name:                    asdf\n",
            "Employe ABN:                     \n",
            "--------------Pay Slip Information--------------------\n",
            "Number of days paid for:         150\n",
            "Hourly Pay Rate:                $15.0\n",
            "Number of Hours Worked:          15.0\n",
            "Gross Pay:                      $33750.0\n",
            "Net Pay  =                      $30795.69 \n",
            "--------------Deduction Information-------------------\n",
            "Deduction type - tax Amount:    $2954.31\n",
            "Deduction type - loan Amount:   $0\n"
          ]
        }
      ],
      "source": [
        "import datetime \n",
        "today = datetime.datetime.now()\n",
        "Name = input(\"Input employe name\")\n",
        "ABN = input(\"Input ABN number\")\n",
        "loan = int(input(\"Input loan amount if any\") or 0)\n",
        "DayPeriod = int(input(\"Input Number of days\"))\n",
        "HourlyPayRate = float(input(\"Enter Hourly Pay Rate\"))\n",
        "HoursWorked = float(input(\"Enter Number of Hours Worked\"))\n",
        "grosspay = HourlyPayRate*HoursWorked*DayPeriod\n",
        "print(f'Total Gross pay = ${grosspay :.2f}')\n",
        "if(grosspay >= 18201 and  grosspay <= 45000):\n",
        "    taxableAmount = grosspay - 18201\n",
        "    tax = taxableAmount*0.19\n",
        "elif(grosspay >= 45001 and  grosspay <= 120000):\n",
        "    taxableAmount = grosspay - 45000\n",
        "    tax = (taxableAmount*0.325) + 5092\n",
        "elif(grosspay >= 120001 and  grosspay <= 180000):\n",
        "    taxableAmount = grosspay - 120000\n",
        "    tax = (taxableAmount*0.37) + 29647\n",
        "elif(grosspay >= 180001):\n",
        "    taxableAmount = grosspay - 180000\n",
        "    tax = (taxableAmount*0.45) + 51667\n",
        "else:\n",
        "    tax=0\n",
        "netpay = grosspay - tax \n",
        "\n",
        "print(\"--------------Employee Information--------------------\")\n",
        "print(f'Employe Name:                    {Name}' )\n",
        "print(f'Employe ABN:                     {ABN}' )\n",
        "\n",
        "print(\"--------------Pay Slip Information--------------------\")\n",
        "\n",
        "print(f'Number of days paid for:         {DayPeriod}' )\n",
        "print(f'Hourly Pay Rate:                ${HourlyPayRate}')\n",
        "print(f'Number of Hours Worked:          {HoursWorked}')\n",
        "print(f'Gross Pay:                      ${grosspay}')\n",
        "print(f'Net Pay:                        ${netpay-loan :.2f} ')\n",
        "\n",
        "print(\"--------------Deduction Information-------------------\")\n",
        "\n",
        "print(f'Deduction type - tax Amount:    ${tax}')\n",
        "print(f'Deduction type - loan Amount:   ${loan}')\n"
      ]
    }
  ],
  "metadata": {
    "colab": {
      "name": "03_Payslip.ipynb",
      "provenance": []
    },
    "kernelspec": {
      "display_name": "Python 3.9.7 ('base')",
      "language": "python",
      "name": "python3"
    },
    "language_info": {
      "codemirror_mode": {
        "name": "ipython",
        "version": 3
      },
      "file_extension": ".py",
      "mimetype": "text/x-python",
      "name": "python",
      "nbconvert_exporter": "python",
      "pygments_lexer": "ipython3",
      "version": "3.9.7"
    },
    "vscode": {
      "interpreter": {
        "hash": "6f5583cf1d9466b5c27e75c89cc6b383bed5736d6b16c51c8074d8690011a952"
      }
    }
  },
  "nbformat": 4,
  "nbformat_minor": 0
}
