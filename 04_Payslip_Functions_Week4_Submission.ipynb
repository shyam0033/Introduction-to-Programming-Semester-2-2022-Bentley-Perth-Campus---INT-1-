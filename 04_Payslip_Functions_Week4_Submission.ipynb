{
  "cells": [
    {
      "cell_type": "markdown",
      "metadata": {
        "colab_type": "text",
        "id": "view-in-github"
      },
      "source": [
        "<a href=\"https://colab.research.google.com/github/rohini-balapumi/ISYS5002-Sem02-2022/blob/main/04_Payslip_Functions_Week4_Submission.ipynb\" target=\"_parent\"><img src=\"https://colab.research.google.com/assets/colab-badge.svg\" alt=\"Open In Colab\"/></a>"
      ]
    },
    {
      "cell_type": "markdown",
      "metadata": {
        "id": "2jQsL4QPFfuG"
      },
      "source": [
        "# Task: Write a program to print out a payslip for hourly paid employees. <br>\n",
        "Modify the Gross pay & paylisp activities to print out a payslip for hourly paid employees.<br>Refer to week 2's Gross Pay and week 3's Payslip submission activities.\n",
        "\n",
        "[What has to be on a pay slip?](https://www.fairwork.gov.au/pay-and-wages/paying-wages/pay-slips#what-has-to-be-on-a-pay-slip)\n",
        "\n",
        "[Resident tax rates 2022–23](https://www.ato.gov.au/rates/individual-income-tax-rates/)"
      ]
    },
    {
      "cell_type": "markdown",
      "metadata": {
        "id": "u6HZryjcFBok"
      },
      "source": [
        "# Implement this Payslip program as functions:\n",
        "\n",
        "- Function to receive details to calculate income\n",
        "- Function to calculate income, tax payable & income after tax\n",
        "- Function to print the payslip with details: \n",
        "> employee name, hourly pay rate, hours worked, gross income, tax payable, income after tax\n",
        "\n"
      ]
    },
    {
      "cell_type": "markdown",
      "metadata": {
        "id": "r2IUoUrsGfyW"
      },
      "source": [
        "## Step 1: Get Income details"
      ]
    },
    {
      "cell_type": "code",
      "execution_count": 16,
      "metadata": {
        "id": "BQq3gCd1GVwf"
      },
      "outputs": [],
      "source": [
        "def get_details():\n",
        "  Name = input(\"Input employe name\")\n",
        "  ABN = input(\"Input ABN number\")\n",
        "  loan = int(input(\"Input loan amount if any\") or 0)\n",
        "  DayPeriod = int(input(\"Input Number of days\"))\n",
        "  HourlyPayRate = float(input(\"Enter Hourly Pay Rate\"))\n",
        "  HoursWorked = float(input(\"Enter Number of Hours Worked\"))\n",
        "  return today,Name,ABN,loan,DayPeriod,HourlyPayRate,HoursWorked\n",
        "\n",
        "\n",
        "today,Name,ABN,loan,DayPeriod,HourlyPayRate,HoursWorked = get_details()"
      ]
    },
    {
      "cell_type": "markdown",
      "metadata": {
        "id": "pgt-5XVqGnWG"
      },
      "source": [
        "## Step 2: Calculate the income, tax payable & income after tax"
      ]
    },
    {
      "cell_type": "code",
      "execution_count": 17,
      "metadata": {
        "id": "WIXvwfVVGtbM"
      },
      "outputs": [],
      "source": [
        "'''\n",
        "this function receives an input parameter - passed into the function via \n",
        "parameter 'income'. The codes in the function uses the value \n",
        "that is passed via 'income', to compare and identify the correct income bracket \n",
        "and calculates the appropriate tax payable amount and store it in variable\n",
        "tax_payable\n",
        "'''\n",
        "\n",
        "def calculate_grosspay(HourlyPayRate,HoursWorked,DayPeriod):\n",
        "  grosspay = HourlyPayRate*HoursWorked*DayPeriod\n",
        "  if(grosspay >= 18201 and  grosspay <= 45000):\n",
        "      taxableAmount = grosspay - 18201\n",
        "      tax = taxableAmount*0.19\n",
        "  elif(grosspay >= 45001 and  grosspay <= 120000):\n",
        "      taxableAmount = grosspay - 45000\n",
        "      tax = (taxableAmount*0.325) + 5092\n",
        "  elif(grosspay >= 120001 and  grosspay <= 180000):\n",
        "      taxableAmount = grosspay - 120000\n",
        "      tax = (taxableAmount*0.37) + 29647\n",
        "  elif(grosspay >= 180001):\n",
        "      taxableAmount = grosspay - 180000\n",
        "      tax = (taxableAmount*0.45) + 51667\n",
        "  else:\n",
        "    tax=0\n",
        "  netpay = grosspay - tax \n",
        "  return netpay,grosspay,tax\n",
        "\n",
        "netPay,grossPay,tax = calculate_grosspay(HourlyPayRate,HoursWorked,DayPeriod)"
      ]
    },
    {
      "cell_type": "markdown",
      "metadata": {
        "id": "kO2J7-wTGt-k"
      },
      "source": [
        "## Step 3: Print the payslip"
      ]
    },
    {
      "cell_type": "code",
      "execution_count": 18,
      "metadata": {},
      "outputs": [],
      "source": [
        "\n",
        "def output(today,Name,ABN,loan,DayPeriod,HourlyPayRate,HoursWorked,netPay,grossPay):\n",
        "    print(\"--------------Employee Information--------------------\")\n",
        "    print(f'Employe Name:                    {Name}' )\n",
        "    print(f'Employe ABN:                     {ABN}' )\n",
        "\n",
        "    print(\"--------------Pay Slip Information--------------------\")\n",
        "\n",
        "    print(f'Number of days paid for:         {DayPeriod}' )\n",
        "    print(f'Hourly Pay Rate:                ${HourlyPayRate}')\n",
        "    print(f'Number of Hours Worked:          {HoursWorked}')\n",
        "    print(f'Gross Pay:                      ${grossPay}')\n",
        "    print(f'Net Pay:                        ${netPay-loan :.2f} ')\n",
        "\n",
        "    print(\"--------------Deduction Information-------------------\")\n",
        "\n",
        "    print(f'Deduction type - tax Amount:    ${tax}')\n",
        "    print(f'Deduction type - loan Amount:   ${loan}')"
      ]
    },
    {
      "cell_type": "code",
      "execution_count": 19,
      "metadata": {},
      "outputs": [
        {
          "name": "stdout",
          "output_type": "stream",
          "text": [
            "--------------Employee Information--------------------\n",
            "Employe Name:                    Shan\n",
            "Employe ABN:                     213456\n",
            "--------------Pay Slip Information--------------------\n",
            "Number of days paid for:         2131\n",
            "Hourly Pay Rate:                $546.0\n",
            "Number of Hours Worked:          2131.0\n",
            "Gross Pay:                      $2479473906.0\n",
            "Net Pay:                        $1363739825.30 \n",
            "--------------Deduction Information-------------------\n",
            "Deduction type - tax Amount:    $1115733924.7\n",
            "Deduction type - loan Amount:   $156\n"
          ]
        }
      ],
      "source": [
        "output(today,Name,ABN,loan,DayPeriod,HourlyPayRate,HoursWorked,netPay,grossPay)"
      ]
    }
  ],
  "metadata": {
    "colab": {
      "authorship_tag": "ABX9TyMF1dQOOwmbjJON+yDyLXnT",
      "include_colab_link": true,
      "name": "04_Payslip_Functions-Week4_Submission.ipynb",
      "provenance": []
    },
    "kernelspec": {
      "display_name": "Python 3.9.7 ('base')",
      "language": "python",
      "name": "python3"
    },
    "language_info": {
      "codemirror_mode": {
        "name": "ipython",
        "version": 3
      },
      "file_extension": ".py",
      "mimetype": "text/x-python",
      "name": "python",
      "nbconvert_exporter": "python",
      "pygments_lexer": "ipython3",
      "version": "3.9.7"
    },
    "vscode": {
      "interpreter": {
        "hash": "6f5583cf1d9466b5c27e75c89cc6b383bed5736d6b16c51c8074d8690011a952"
      }
    }
  },
  "nbformat": 4,
  "nbformat_minor": 0
}
