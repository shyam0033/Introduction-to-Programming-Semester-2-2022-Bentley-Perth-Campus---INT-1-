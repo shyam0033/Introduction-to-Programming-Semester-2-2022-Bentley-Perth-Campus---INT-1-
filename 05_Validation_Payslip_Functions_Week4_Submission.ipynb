{
  "cells": [
    {
      "cell_type": "markdown",
      "metadata": {
        "id": "view-in-github",
        "colab_type": "text"
      },
      "source": [
        "<a href=\"https://colab.research.google.com/github/shyam0033/Introduction-to-Programming-Semester-2-2022-Bentley-Perth-Campus---INT-1-/blob/main/05_Validation_Payslip_Functions_Week4_Submission.ipynb\" target=\"_parent\"><img src=\"https://colab.research.google.com/assets/colab-badge.svg\" alt=\"Open In Colab\"/></a>"
      ]
    },
    {
      "cell_type": "markdown",
      "metadata": {
        "id": "2jQsL4QPFfuG"
      },
      "source": [
        "# Task: Write a program to print out a payslip for hourly paid employees. <br>\n",
        "Modify the Gross pay & paylisp activities to print out a payslip for hourly paid employees.<br>Refer to week 2's Gross Pay and week 3's Payslip submission activities.\n",
        "\n",
        "[What has to be on a pay slip?](https://www.fairwork.gov.au/pay-and-wages/paying-wages/pay-slips#what-has-to-be-on-a-pay-slip)\n",
        "\n",
        "[Resident tax rates 2022–23](https://www.ato.gov.au/rates/individual-income-tax-rates/)"
      ]
    },
    {
      "cell_type": "markdown",
      "metadata": {
        "id": "u6HZryjcFBok"
      },
      "source": [
        "# Implement this Payslip program as functions:\n",
        "\n",
        "- Function to receive details to calculate income\n",
        "- Function to calculate income, tax payable & income after tax\n",
        "- Function to print the payslip with details: \n",
        "> employee name, hourly pay rate, hours worked, gross income, tax payable, income after tax\n",
        "\n"
      ]
    },
    {
      "cell_type": "markdown",
      "metadata": {
        "id": "r2IUoUrsGfyW"
      },
      "source": [
        "## Step 1: Get Income details"
      ]
    },
    {
      "cell_type": "code",
      "execution_count": null,
      "metadata": {
        "id": "BQq3gCd1GVwf",
        "outputId": "b190cb0c-b38b-4015-91fd-81c827a448c4"
      },
      "outputs": [
        {
          "name": "stdout",
          "output_type": "stream",
          "text": [
            "Please enter a numeric Value\n",
            "Please enter a numeric Value\n",
            "could not convert string to float: 'asdas'\n",
            "could not convert string to float: 'asdasd'\n",
            "could not convert string to float: 'asdasd'\n",
            "could not convert string to float: 'asdasd'\n",
            "Please enter a numeric Value\n",
            "Please enter a numeric Value\n",
            "Please enter a numeric Value\n"
          ]
        }
      ],
      "source": [
        "def get_details():\n",
        "  Name = input(\"Input employe name\")\n",
        "  ABN = input(\"Input ABN number\")\n",
        "  while True:\n",
        "    loan = (input(\"Input loan amount if any\") or 0)\n",
        "    if loan.isdigit():\n",
        "      loan = float(loan)\n",
        "      break\n",
        "    else:\n",
        "      print(\"Please enter a numeric Value\")\n",
        "  while True:\n",
        "    try:\n",
        "      DayPeriod = input(\"Input Number of days\")\n",
        "      DayPeriod = float(DayPeriod)\n",
        "      break\n",
        "    except Exception as e:\n",
        "      print(e)\n",
        "  while True:\n",
        "    try:\n",
        "      HourlyPayRate = float(input(\"Enter Hourly Pay Rate\"))\n",
        "      break\n",
        "    except Exception as e:\n",
        "      print(e)\n",
        "  while True:\n",
        "    HoursWorked = input(\"Enter Number of Hours Worked\")\n",
        "    if HoursWorked.isdigit():\n",
        "      HoursWorked = float(HoursWorked)\n",
        "      break\n",
        "    else:\n",
        "      print(\"Please enter a numeric Value\")\n",
        "\n",
        "  return Name,ABN,loan,DayPeriod,HourlyPayRate,HoursWorked\n",
        "\n",
        "\n",
        "Name,ABN,loan,DayPeriod,HourlyPayRate,HoursWorked = get_details()"
      ]
    },
    {
      "cell_type": "markdown",
      "metadata": {
        "id": "pgt-5XVqGnWG"
      },
      "source": [
        "## Step 2: Calculate the income, tax payable & income after tax"
      ]
    },
    {
      "cell_type": "code",
      "execution_count": null,
      "metadata": {
        "id": "WIXvwfVVGtbM"
      },
      "outputs": [],
      "source": [
        "'''\n",
        "this function receives an input parameter - passed into the function via \n",
        "parameter 'income'. The codes in the function uses the value \n",
        "that is passed via 'income', to compare and identify the correct income bracket \n",
        "and calculates the appropriate tax payable amount and store it in variable\n",
        "tax_payable\n",
        "'''\n",
        "\n",
        "def calculate_grosspay(HourlyPayRate,HoursWorked,DayPeriod):\n",
        "  grosspay = HourlyPayRate*HoursWorked*DayPeriod\n",
        "  if(grosspay >= 18201 and  grosspay <= 45000):\n",
        "      taxableAmount = grosspay - 18201\n",
        "      tax = taxableAmount*0.19\n",
        "  elif(grosspay >= 45001 and  grosspay <= 120000):\n",
        "      taxableAmount = grosspay - 45000\n",
        "      tax = (taxableAmount*0.325) + 5092\n",
        "  elif(grosspay >= 120001 and  grosspay <= 180000):\n",
        "      taxableAmount = grosspay - 120000\n",
        "      tax = (taxableAmount*0.37) + 29647\n",
        "  elif(grosspay >= 180001):\n",
        "      taxableAmount = grosspay - 180000\n",
        "      tax = (taxableAmount*0.45) + 51667\n",
        "  else:\n",
        "    tax=0\n",
        "  netpay = grosspay - tax \n",
        "  return netpay,grosspay,tax\n",
        "\n",
        "netPay,grossPay,tax = calculate_grosspay(HourlyPayRate,HoursWorked,DayPeriod)"
      ]
    },
    {
      "cell_type": "markdown",
      "metadata": {
        "id": "kO2J7-wTGt-k"
      },
      "source": [
        "## Step 3: Print the payslip"
      ]
    },
    {
      "cell_type": "code",
      "execution_count": null,
      "metadata": {
        "id": "3AsdTF3q02yg"
      },
      "outputs": [],
      "source": [
        "\n",
        "def output(Name,ABN,loan,DayPeriod,HourlyPayRate,HoursWorked,netPay,grossPay):\n",
        "    print(\"--------------Employee Information--------------------\")\n",
        "    print(f'Employe Name:                    {Name}' )\n",
        "    print(f'Employe ABN:                     {ABN}' )\n",
        "\n",
        "    print(\"--------------Pay Slip Information--------------------\")\n",
        "\n",
        "    print(f'Number of days paid for:         {DayPeriod}' )\n",
        "    print(f'Hourly Pay Rate:                ${HourlyPayRate}')\n",
        "    print(f'Number of Hours Worked:          {HoursWorked}')\n",
        "    print(f'Gross Pay:                      ${grossPay}')\n",
        "    print(f'Net Pay:                        ${netPay-loan :.2f} ')\n",
        "\n",
        "    print(\"--------------Deduction Information-------------------\")\n",
        "\n",
        "    print(f'Deduction type - tax Amount:    ${tax}')\n",
        "    print(f'Deduction type - loan Amount:   ${loan}')"
      ]
    },
    {
      "cell_type": "code",
      "execution_count": null,
      "metadata": {
        "id": "Q6rt9ll302yg",
        "outputId": "0fee1407-a4dc-4fff-f9e6-f09a11ce9fe2"
      },
      "outputs": [
        {
          "name": "stdout",
          "output_type": "stream",
          "text": [
            "--------------Employee Information--------------------\n",
            "Employe Name:                    SHabn\n",
            "Employe ABN:                     ASdjk\n",
            "--------------Pay Slip Information--------------------\n",
            "Number of days paid for:         10.0\n",
            "Hourly Pay Rate:                $10.0\n",
            "Number of Hours Worked:          10.0\n",
            "Gross Pay:                      $1000.0\n",
            "Net Pay:                        $990.00 \n",
            "--------------Deduction Information-------------------\n",
            "Deduction type - tax Amount:    $0\n",
            "Deduction type - loan Amount:   $10.0\n"
          ]
        }
      ],
      "source": [
        "output(Name,ABN,loan,DayPeriod,HourlyPayRate,HoursWorked,netPay,grossPay)"
      ]
    }
  ],
  "metadata": {
    "colab": {
      "provenance": [],
      "include_colab_link": true
    },
    "kernelspec": {
      "display_name": "Python 3.9.7 ('base')",
      "language": "python",
      "name": "python3"
    },
    "language_info": {
      "codemirror_mode": {
        "name": "ipython",
        "version": 3
      },
      "file_extension": ".py",
      "mimetype": "text/x-python",
      "name": "python",
      "nbconvert_exporter": "python",
      "pygments_lexer": "ipython3",
      "version": "3.9.7"
    },
    "vscode": {
      "interpreter": {
        "hash": "6f5583cf1d9466b5c27e75c89cc6b383bed5736d6b16c51c8074d8690011a952"
      }
    }
  },
  "nbformat": 4,
  "nbformat_minor": 0
}