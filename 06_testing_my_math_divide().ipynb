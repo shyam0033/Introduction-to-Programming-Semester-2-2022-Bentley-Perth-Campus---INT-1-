{
  "cells": [
    {
      "cell_type": "markdown",
      "metadata": {
        "id": "view-in-github",
        "colab_type": "text"
      },
      "source": [
        "<a href=\"https://colab.research.google.com/github/shyam0033/Introduction-to-Programming-Semester-2-2022-Bentley-Perth-Campus---INT-1-/blob/main/06_testing_my_math_divide().ipynb\" target=\"_parent\"><img src=\"https://colab.research.google.com/assets/colab-badge.svg\" alt=\"Open In Colab\"/></a>"
      ]
    },
    {
      "cell_type": "markdown",
      "metadata": {
        "id": "LIfoDVzKX7uK"
      },
      "source": [
        "## Testing  my_math.divide()\n",
        "\n",
        "What is your preferred testing strategy? Do you like using the assert statement or prefer doctest?  \n",
        "\n",
        "Using your preferred testing strategy, develop a test table and test the following funciton.  Where required update the function so all test behave as expected.\n",
        "\n",
        "\n",
        "## Function to test"
      ]
    },
    {
      "cell_type": "code",
      "execution_count": null,
      "metadata": {
        "id": "-mA9zz4I1Eyl"
      },
      "outputs": [],
      "source": [
        "import doctest"
      ]
    },
    {
      "cell_type": "code",
      "execution_count": null,
      "metadata": {
        "id": "Cj3EJCN51Eyn"
      },
      "outputs": [],
      "source": [
        "def isNumber(x):\n",
        "  return (type(x) == int or type(x) == float)\n",
        "\n",
        "def divide(x, y):\n",
        "    '''divide two numbers\n",
        "    >>> divide(10,2)\n",
        "    5.0\n",
        "    >>> divide(1,1)\n",
        "    1.0\n",
        "    >>> divide(-1,-1)\n",
        "    1.0\n",
        "    >>> divide(3.3,1.1)\n",
        "    3.0\n",
        "    >>> divide('0',0)\n",
        "    'Not a number'\n",
        "    '''\n",
        "    if isNumber(x) and isNumber(y):\n",
        "      return x / y\n",
        "    return 'Not a number'"
      ]
    },
    {
      "cell_type": "code",
      "execution_count": null,
      "metadata": {
        "id": "YH9gDoOYvKwg",
        "outputId": "1db561d3-083b-412e-ec29-74482608d7ad"
      },
      "outputs": [
        {
          "name": "stdout",
          "output_type": "stream",
          "text": [
            "**********************************************************************\n",
            "File \"__main__\", line 12, in __main__.divide\n",
            "Failed example:\n",
            "    divide(3.3,1.1)\n",
            "Expected:\n",
            "    3.0\n",
            "Got:\n",
            "    2.9999999999999996\n",
            "**********************************************************************\n",
            "1 items had failures:\n",
            "   1 of   5 in __main__.divide\n",
            "***Test Failed*** 1 failures.\n"
          ]
        },
        {
          "data": {
            "text/plain": [
              "TestResults(failed=1, attempted=5)"
            ]
          },
          "execution_count": 43,
          "metadata": {},
          "output_type": "execute_result"
        }
      ],
      "source": [
        "doctest.testmod()"
      ]
    },
    {
      "cell_type": "markdown",
      "metadata": {
        "id": "ojb6-ByM1Eyo"
      },
      "source": []
    },
    {
      "cell_type": "markdown",
      "metadata": {
        "id": "JYSZ-53nLF6n"
      },
      "source": [
        "# Test Tables\n",
        "\n",
        "\n",
        "\n",
        "\n",
        "# Consider the function divide()\n",
        "\n",
        "| Test # | Type    | Data     | Expected | Actual | Pass/Fail |\n",
        "|--------|---------|----------|----------|--------|-----------|\n",
        "|  1     | Valid   |10,2       | 5.0        |        |           |\n",
        "|  2     | Valid   |1,1       | 1        |        |           |\n",
        "|  3     | Valid   |-1,-1     | 1      |        |           |\n",
        "|  4     | Invalid |1.1,1.1   | 3.0      |        |           |\n",
        "|  5     | Invalid |-1.1,-1.1 | 'Not a number'      |        |           |\n",
        "\n",
        "\n",
        "\n",
        "\n",
        "\n"
      ]
    }
  ],
  "metadata": {
    "colab": {
      "provenance": [],
      "include_colab_link": true
    },
    "kernelspec": {
      "display_name": "Python 3.9.7 ('base')",
      "language": "python",
      "name": "python3"
    },
    "language_info": {
      "codemirror_mode": {
        "name": "ipython",
        "version": 3
      },
      "file_extension": ".py",
      "mimetype": "text/x-python",
      "name": "python",
      "nbconvert_exporter": "python",
      "pygments_lexer": "ipython3",
      "version": "3.9.7"
    },
    "vscode": {
      "interpreter": {
        "hash": "6f5583cf1d9466b5c27e75c89cc6b383bed5736d6b16c51c8074d8690011a952"
      }
    }
  },
  "nbformat": 4,
  "nbformat_minor": 0
}